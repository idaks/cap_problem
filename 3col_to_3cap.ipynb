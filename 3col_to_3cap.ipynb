{
 "cells": [
  {
   "cell_type": "markdown",
   "metadata": {},
   "source": [
    "## Package Import"
   ]
  },
  {
   "cell_type": "code",
   "execution_count": 2,
   "metadata": {},
   "outputs": [],
   "source": [
    "import itertools\n",
    "import random\n",
    "import subprocess\n",
    "import os"
   ]
  },
  {
   "cell_type": "markdown",
   "metadata": {},
   "source": [
    "## Procedure\n",
    "To show that 3-CAP is NP-hard, we give a polytime reduction from 3-COL to 3-CAP. That is, given an instance of 3-COL (i.e. a graph G(V, E)), we will construct an instance G_CAP of 3-cap where G_cap is 3-allocable iff G is 3-colorable.</br>\n",
    "\n",
    "## Contrustruction\n",
    "\n",
    "Given a graph G, for each edge (x,y), we create a conflict by \n",
    "- viewing x, y as two modules Mx and My\n",
    "- creating two requirements Rx,Ry s.t. conflict(Rx,Ry)\n",
    "- add CAP-edges (Mx,Rx) and (My, Ry)\n",
    "\n",
    "![Construction](./img/construction.png)\n",
    "\n",
    "## Approach\n",
    "Then we get a CAP-graph G_cap\n",
    "Claim: G_CAP is 3-allocable iff G is 3-colorable\n",
    "\n",
    "We can interprate the claim in two ways [relevant material](http://www3.govst.edu/wrudloff/CPSC438/CPSC438/CH01/Chapter1/Section.1.1.pdf) </br>\n",
    "\n",
    "⇒ **`if G is 3-col, then G_cap is 3-alloc`** = `if G_cap is not 3-alloc then G is not 3-col` </br>\n",
    "\n",
    "⇐ `if G is not 3-col, then G_cap is not 3-alloc` = **`if G_cap is 3-alloc then G is 3-col`**"
   ]
  },
  {
   "cell_type": "markdown",
   "metadata": {},
   "source": [
    "## Experiments"
   ]
  },
  {
   "cell_type": "markdown",
   "metadata": {},
   "source": [
    "### Thoery\n",
    "Suppose G is 3-colorable, s.t. no neighbors have the same color. This 3-coloring defines a 3-alloc (in the obvious way): the color of a node (module) uniquely identifies a box on which that module can be installed. A conflict could exist if two reqs R1 and R2 that are in conflict appear on the same box. However, each Ri inherits the color of the unique module on which it is used."
   ]
  },
  {
   "cell_type": "markdown",
   "metadata": {},
   "source": [
    "### Emperical Confirmation with ASP"
   ]
  },
  {
   "cell_type": "markdown",
   "metadata": {},
   "source": [
    "#### COL Generation"
   ]
  },
  {
   "cell_type": "code",
   "execution_count": 3,
   "metadata": {},
   "outputs": [],
   "source": [
    "def graph_generate(node_num,edge_num,graph_seq=1):\n",
    "    node_ids=[node_id for node_id in range(1,node_num+1) ]# prepare for itertools\n",
    "    # generate all edges(undirected without self-connected)\n",
    "    edges=list(itertools.combinations(node_ids, 2)) \n",
    "    graph_ls=[]\n",
    "    for seq in range(graph_seq):\n",
    "        graph=random.sample(edges, edge_num)\n",
    "        graph_ls.append(graph)\n",
    "#     print(graph_ls)\n",
    "    return(graph_ls)"
   ]
  },
  {
   "cell_type": "code",
   "execution_count": 4,
   "metadata": {},
   "outputs": [],
   "source": [
    "def graph_clingo_generate(node_num,edge_num,col_num,graphs_ls,graph_seq=1): \n",
    "    newpath = 'clingo_files'\n",
    "    if not os.path.exists(newpath):\n",
    "        os.makedirs(newpath)\n",
    "    for graph_id in range(graph_seq):\n",
    "        graph=graphs_ls[graph_id] # randome selected graph (tuple)\n",
    "        clingo=[] # add all elements to the clingo list\n",
    "        for edge in graph:\n",
    "            edge_temp=\"edge\"+str(edge)+\".\"\n",
    "            clingo.append(edge_temp)\n",
    "        clingo.append(\"#const n = \"+str(col_num)+\".\")\n",
    "        clingo.append(\"{ color(X,1..n) } = 1 :- node(X).\")\n",
    "        clingo.append(\"node(X) :- edge(X,_).\")\n",
    "        clingo.append(\"node(X) :- edge(_,X).\")\n",
    "        clingo.append(\":- edge(X,Y), color(X,C), color(Y,C).\")\n",
    "        clingo_script='\\n'.join(clingo)\n",
    "        \n",
    "        with open(newpath+\"/col_clingo\"+\".lp\", \"w\") as text_file:\n",
    "            text_file.write(clingo_script)\n",
    "#     return(clingo)"
   ]
  },
  {
   "cell_type": "markdown",
   "metadata": {},
   "source": [
    "#### CAP Generation"
   ]
  },
  {
   "cell_type": "code",
   "execution_count": 5,
   "metadata": {},
   "outputs": [],
   "source": [
    "def cap_clingo_generate(node_num,edge_num,box_num,graphs_ls,graph_seq=1): \n",
    "    newpath = 'clingo_files'\n",
    "    if not os.path.exists(newpath):\n",
    "        os.makedirs(newpath)\n",
    "    for graph_id in range(graph_seq):\n",
    "        graph=graphs_ls[graph_id] # randome selected graph (tuple)\n",
    "        clingo=[] # add all elements to the clingo list\n",
    "        for edge in graph:\n",
    "            edge_temp=\"edge\"+str(edge)+\".\"\n",
    "            clingo.append(edge_temp)\n",
    "        clingo.append(\"m(X) :- edge(X,_).\")\n",
    "        clingo.append(\"m(X) :- edge(_,X).\")\n",
    "        clingo.append(\"con(X,Y):-edge(X,Y).\")\n",
    "        clingo.append(\"req (X):- con(X,_).\")\n",
    "        clingo.append(\"req (X):- con(_,X).\")\n",
    "        clingo.append(\"uses(X,Y):- m(X),req(Y),X=Y.\")\n",
    "        clingo.append('box(1..'+str(box_num)+').')\n",
    "        clingo.append(\"1 { on(B,M) : box(B) } 1  :- m(M).\")\n",
    "        clingo.append(\"inst(B,R) :- on(B,M), uses(M,R).\")\n",
    "        clingo.append(\":- con(R1,R2), R1 != R2, inst(B,R1), inst(B,R2).\")\n",
    "        clingo_script='\\n'.join(clingo)\n",
    "        \n",
    "        with open(newpath+\"/cap_clingo\"+\".lp\", \"w\") as text_file:\n",
    "            text_file.write(clingo_script)\n",
    "#     return(clingo)"
   ]
  },
  {
   "cell_type": "markdown",
   "metadata": {},
   "source": [
    "#### COL_CAP Validation"
   ]
  },
  {
   "cell_type": "code",
   "execution_count": 6,
   "metadata": {},
   "outputs": [],
   "source": [
    "def clingo_generate(node_num,edge_num,col_box_num,graph_seq=1):\n",
    "    graphs_ls=graph_generate(node_num,edge_num,graph_seq) # all graphs\n",
    "    graph_clingo_generate(node_num,edge_num,col_box_num,graphs_ls,graph_seq=1)\n",
    "    cap_clingo_generate(node_num,edge_num,col_box_num,graphs_ls,graph_seq=1)"
   ]
  },
  {
   "cell_type": "code",
   "execution_count": 7,
   "metadata": {},
   "outputs": [],
   "source": [
    "def cmd_result(command):\n",
    "    stdout = subprocess.getoutput(command)\n",
    "    result=stdout.split(\"\\n\")[-6]\n",
    "    return(result)"
   ]
  },
  {
   "cell_type": "code",
   "execution_count": 8,
   "metadata": {},
   "outputs": [],
   "source": [
    "def col_cap(node_num,edge_num,col_box_num):\n",
    "    clingo_generate(node_num,edge_num,col_box_num)\n",
    "    graph_command='bash -c \"clingo clingo_files/col_clingo.lp\"'\n",
    "    cap_command = 'bash -c \"clingo clingo_files/cap_clingo.lp\"'\n",
    "#     print(cmd_result(graph_command),cmd_result(cap_command))\n",
    "    if cmd_result(graph_command)!=cmd_result(cap_command):\n",
    "        print(\"ALERT: COL and CAP mismacth\")"
   ]
  },
  {
   "cell_type": "markdown",
   "metadata": {},
   "source": [
    "### Result"
   ]
  },
  {
   "cell_type": "code",
   "execution_count": 9,
   "metadata": {
    "scrolled": false
   },
   "outputs": [],
   "source": [
    "for i in range(100):\n",
    "    col_cap(5,8,3)    #node_num, edge_num, col number or box number"
   ]
  }
 ],
 "metadata": {
  "kernelspec": {
   "display_name": "Python 3 (ipykernel)",
   "language": "python",
   "name": "python3"
  },
  "language_info": {
   "codemirror_mode": {
    "name": "ipython",
    "version": 3
   },
   "file_extension": ".py",
   "mimetype": "text/x-python",
   "name": "python",
   "nbconvert_exporter": "python",
   "pygments_lexer": "ipython3",
   "version": "3.8.12"
  },
  "toc": {
   "base_numbering": 1,
   "nav_menu": {},
   "number_sections": true,
   "sideBar": true,
   "skip_h1_title": false,
   "title_cell": "Table of Contents",
   "title_sidebar": "Contents",
   "toc_cell": false,
   "toc_position": {},
   "toc_section_display": true,
   "toc_window_display": false
  }
 },
 "nbformat": 4,
 "nbformat_minor": 2
}
