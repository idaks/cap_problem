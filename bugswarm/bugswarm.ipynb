{
 "cells": [
  {
   "cell_type": "code",
   "execution_count": 1,
   "id": "a5ddb8ca-f7d5-4f9b-bab7-07f898c39794",
   "metadata": {},
   "outputs": [],
   "source": [
    "from bugswarm.common.rest_api.database_api import DatabaseAPI"
   ]
  },
  {
   "cell_type": "markdown",
   "id": "99107bab-0439-46a2-a75f-a95ad20cc9fb",
   "metadata": {},
   "source": [
    "## Import Token"
   ]
  },
  {
   "cell_type": "code",
   "execution_count": 2,
   "id": "6c984645-fc49-46fb-8e29-4cf62b17c68d",
   "metadata": {},
   "outputs": [],
   "source": [
    "with open('token.txt') as f:\n",
    "    TOKEN= f.readline()"
   ]
  },
  {
   "cell_type": "code",
   "execution_count": 3,
   "id": "64c06adc-b55c-4316-bff3-6f0f40efab31",
   "metadata": {},
   "outputs": [],
   "source": [
    "bugswarmapi = DatabaseAPI(token=TOKEN)"
   ]
  },
  {
   "cell_type": "markdown",
   "id": "515980fd-d56a-4c5d-99a7-3979fd7a764a",
   "metadata": {},
   "source": [
    "## All Data"
   ]
  },
  {
   "cell_type": "code",
   "execution_count": 4,
   "id": "7af94395-82fe-4cc7-bece-18271918ba51",
   "metadata": {},
   "outputs": [],
   "source": [
    "data=bugswarmapi.list_artifacts()"
   ]
  },
  {
   "cell_type": "code",
   "execution_count": 5,
   "id": "f016601f-d76a-4b41-9dba-cb171017041a",
   "metadata": {},
   "outputs": [
    {
     "data": {
      "text/plain": [
       "3280"
      ]
     },
     "execution_count": 5,
     "metadata": {},
     "output_type": "execute_result"
    }
   ],
   "source": [
    "len(data)"
   ]
  },
  {
   "cell_type": "markdown",
   "id": "79908d57-fd85-427f-8d1f-dbcc28835fd9",
   "metadata": {
    "tags": []
   },
   "source": [
    "## API Filter"
   ]
  },
  {
   "cell_type": "code",
   "execution_count": 12,
   "id": "6f496ec9-44e5-4aa2-aaf6-7a54d664fee3",
   "metadata": {},
   "outputs": [],
   "source": [
    "api_filter = api_filter = '{\"reproduce_successes\":{\"$gt\":0, \"$lt\":2}, \"lang\":\"Python\"}'\n",
    "filter_data=bugswarmapi.filter_artifacts(api_filter)"
   ]
  },
  {
   "cell_type": "markdown",
   "id": "d9cdaa87-bc55-422e-a5db-a7ec776e7cca",
   "metadata": {},
   "source": [
    "## Mannually Filter"
   ]
  },
  {
   "cell_type": "code",
   "execution_count": 34,
   "id": "66046f52-35e2-4a7e-88c9-a6bf3f17b701",
   "metadata": {},
   "outputs": [],
   "source": [
    "py_ls=[]\n",
    "for art in data:\n",
    "    if art[\"lang\"]==\"Python\" and int(art[\"reproduce_successes\"])<5:\n",
    "        py_ls.append(art)"
   ]
  },
  {
   "cell_type": "code",
   "execution_count": 36,
   "id": "f63c1b5f-0d11-48ea-ae52-8ca93bbbda2b",
   "metadata": {},
   "outputs": [
    {
     "data": {
      "text/plain": [
       "21"
      ]
     },
     "execution_count": 36,
     "metadata": {},
     "output_type": "execute_result"
    }
   ],
   "source": [
    "len(py_ls)"
   ]
  }
 ],
 "metadata": {
  "kernelspec": {
   "display_name": "Python 3 (ipykernel)",
   "language": "python",
   "name": "python3"
  },
  "language_info": {
   "codemirror_mode": {
    "name": "ipython",
    "version": 3
   },
   "file_extension": ".py",
   "mimetype": "text/x-python",
   "name": "python",
   "nbconvert_exporter": "python",
   "pygments_lexer": "ipython3",
   "version": "3.8.13"
  }
 },
 "nbformat": 4,
 "nbformat_minor": 5
}
