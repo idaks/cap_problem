{
 "cells": [
  {
   "cell_type": "code",
   "execution_count": 13,
   "id": "cd0c3c28-ed6a-4665-8905-aabb556a2572",
   "metadata": {},
   "outputs": [],
   "source": [
    "import pandas as pd"
   ]
  },
  {
   "cell_type": "code",
   "execution_count": 21,
   "id": "cfa821a0-29f7-45ac-92e2-3e7d9643989a",
   "metadata": {},
   "outputs": [],
   "source": [
    "dc_data=pd.read_csv(\"bugswarm_artifacts_dependency_broken_orig.csv\", usecols=range(4))"
   ]
  },
  {
   "cell_type": "code",
   "execution_count": 22,
   "id": "296456ed-9e23-45c5-9932-f6882f47cd51",
   "metadata": {},
   "outputs": [
    {
     "data": {
      "text/plain": [
       "1421"
      ]
     },
     "execution_count": 22,
     "metadata": {},
     "output_type": "execute_result"
    }
   ],
   "source": [
    "len(dc_data)"
   ]
  },
  {
   "cell_type": "code",
   "execution_count": 23,
   "id": "2a750d9e-8c68-4ceb-acf1-16b797df2755",
   "metadata": {},
   "outputs": [
    {
     "data": {
      "text/html": [
       "<div>\n",
       "<style scoped>\n",
       "    .dataframe tbody tr th:only-of-type {\n",
       "        vertical-align: middle;\n",
       "    }\n",
       "\n",
       "    .dataframe tbody tr th {\n",
       "        vertical-align: top;\n",
       "    }\n",
       "\n",
       "    .dataframe thead th {\n",
       "        text-align: right;\n",
       "    }\n",
       "</style>\n",
       "<table border=\"1\" class=\"dataframe\">\n",
       "  <thead>\n",
       "    <tr style=\"text-align: right;\">\n",
       "      <th></th>\n",
       "      <th>Reproduced Log File Name</th>\n",
       "      <th>Error Line Flagged</th>\n",
       "      <th>Possible Candidates</th>\n",
       "      <th>Requirements File</th>\n",
       "    </tr>\n",
       "  </thead>\n",
       "  <tbody>\n",
       "    <tr>\n",
       "      <th>0</th>\n",
       "      <td>Abjad-abjad-289716772.passed.log</td>\n",
       "      <td>ERROR: pyrsistent requires Python '&gt;=3.5' but ...</td>\n",
       "      <td>[{\"_name\": \"pyrsistent\", \"_is_pinned\": false, ...</td>\n",
       "      <td>[]</td>\n",
       "    </tr>\n",
       "    <tr>\n",
       "      <th>1</th>\n",
       "      <td>Abjad-abjad-303759206.passed.log</td>\n",
       "      <td>ERROR: pyrsistent requires Python '&gt;=3.5' but ...</td>\n",
       "      <td>[{\"_name\": \"pyrsistent\", \"_is_pinned\": false, ...</td>\n",
       "      <td>[]</td>\n",
       "    </tr>\n",
       "    <tr>\n",
       "      <th>2</th>\n",
       "      <td>Abjad-abjad-315458775.passed.log</td>\n",
       "      <td>ERROR: pyrsistent requires Python '&gt;=3.5' but ...</td>\n",
       "      <td>[{\"_name\": \"pyrsistent\", \"_is_pinned\": false, ...</td>\n",
       "      <td>[]</td>\n",
       "    </tr>\n",
       "    <tr>\n",
       "      <th>3</th>\n",
       "      <td>Abjad-abjad-316134246.failed.log</td>\n",
       "      <td>ERROR: pyrsistent requires Python '&gt;=3.5' but ...</td>\n",
       "      <td>[{\"_name\": \"pyrsistent\", \"_is_pinned\": false, ...</td>\n",
       "      <td>[]</td>\n",
       "    </tr>\n",
       "    <tr>\n",
       "      <th>4</th>\n",
       "      <td>Abjad-abjad-316134246.passed.log</td>\n",
       "      <td>ERROR: pyrsistent requires Python '&gt;=3.5' but ...</td>\n",
       "      <td>[{\"_name\": \"pyrsistent\", \"_is_pinned\": false, ...</td>\n",
       "      <td>[]</td>\n",
       "    </tr>\n",
       "  </tbody>\n",
       "</table>\n",
       "</div>"
      ],
      "text/plain": [
       "           Reproduced Log File Name  \\\n",
       "0  Abjad-abjad-289716772.passed.log   \n",
       "1  Abjad-abjad-303759206.passed.log   \n",
       "2  Abjad-abjad-315458775.passed.log   \n",
       "3  Abjad-abjad-316134246.failed.log   \n",
       "4  Abjad-abjad-316134246.passed.log   \n",
       "\n",
       "                                  Error Line Flagged  \\\n",
       "0  ERROR: pyrsistent requires Python '>=3.5' but ...   \n",
       "1  ERROR: pyrsistent requires Python '>=3.5' but ...   \n",
       "2  ERROR: pyrsistent requires Python '>=3.5' but ...   \n",
       "3  ERROR: pyrsistent requires Python '>=3.5' but ...   \n",
       "4  ERROR: pyrsistent requires Python '>=3.5' but ...   \n",
       "\n",
       "                                 Possible Candidates Requirements File  \n",
       "0  [{\"_name\": \"pyrsistent\", \"_is_pinned\": false, ...                []  \n",
       "1  [{\"_name\": \"pyrsistent\", \"_is_pinned\": false, ...                []  \n",
       "2  [{\"_name\": \"pyrsistent\", \"_is_pinned\": false, ...                []  \n",
       "3  [{\"_name\": \"pyrsistent\", \"_is_pinned\": false, ...                []  \n",
       "4  [{\"_name\": \"pyrsistent\", \"_is_pinned\": false, ...                []  "
      ]
     },
     "execution_count": 23,
     "metadata": {},
     "output_type": "execute_result"
    }
   ],
   "source": [
    "dc_data.head()"
   ]
  },
  {
   "cell_type": "code",
   "execution_count": 17,
   "id": "9f004d3d-4cf6-48ab-9995-fbfaa6e1f875",
   "metadata": {},
   "outputs": [],
   "source": [
    "# dc_data.sort_values([\"Reproduced Log File Name\"], ascending =[True]).drop_duplicates([\"Reproduced Log File Name\"]).reset_index(drop=True)"
   ]
  },
  {
   "cell_type": "code",
   "execution_count": null,
   "id": "0bb9db10-c907-40a8-a711-a4b6955fc1ba",
   "metadata": {},
   "outputs": [],
   "source": []
  }
 ],
 "metadata": {
  "kernelspec": {
   "display_name": "Python 3 (ipykernel)",
   "language": "python",
   "name": "python3"
  },
  "language_info": {
   "codemirror_mode": {
    "name": "ipython",
    "version": 3
   },
   "file_extension": ".py",
   "mimetype": "text/x-python",
   "name": "python",
   "nbconvert_exporter": "python",
   "pygments_lexer": "ipython3",
   "version": "3.8.13"
  }
 },
 "nbformat": 4,
 "nbformat_minor": 5
}
