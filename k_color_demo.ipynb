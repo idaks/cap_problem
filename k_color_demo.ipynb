{
 "cells": [
  {
   "cell_type": "markdown",
   "metadata": {},
   "source": [
    "# Package Import"
   ]
  },
  {
   "cell_type": "code",
   "execution_count": 1,
   "metadata": {},
   "outputs": [],
   "source": [
    "import itertools\n",
    "import random\n",
    "import subprocess\n",
    "import os"
   ]
  },
  {
   "cell_type": "markdown",
   "metadata": {},
   "source": [
    "# Function"
   ]
  },
  {
   "cell_type": "code",
   "execution_count": 2,
   "metadata": {},
   "outputs": [],
   "source": [
    "def asign_k(k,generate):## inseart K to the generate part and return updated generate\n",
    "    gen_ls=generate.splitlines()\n",
    "    k_str='#const n='+str(k)+'.'\n",
    "    gen_ls.insert(1, k_str)\n",
    "    gen_update='\\n'.join(gen_ls)\n",
    "    return(gen_update)"
   ]
  },
  {
   "cell_type": "code",
   "execution_count": 3,
   "metadata": {},
   "outputs": [],
   "source": [
    "def str_to_lp(string,filename,problem):\n",
    "    if not os.path.exists(\"clingo_files\"):\n",
    "        os.makedirs(\"clingo_files\")\n",
    "    with open(\"clingo_files\"+\"/\"+problem+\"_\"+filename+\".lp\", \"w\") as text_file:\n",
    "        text_file.write(string)"
   ]
  },
  {
   "cell_type": "code",
   "execution_count": 4,
   "metadata": {},
   "outputs": [],
   "source": [
    "def run_clingo(instance, gen, check,term):\n",
    "    str_to_lp(instance,\"instance\",term)\n",
    "    str_to_lp(gen,\"generate\",term)\n",
    "    str_to_lp(check,\"check\",term)\n",
    "    command='bash -c \"clingo clingo_files/{}_instance.lp clingo_files/{}_generate.lp  clingo_files/{}_check.lp\"'.format(term,term,term)\n",
    "    result=run_bash(command)\n",
    "    return(result)"
   ]
  },
  {
   "cell_type": "code",
   "execution_count": 5,
   "metadata": {},
   "outputs": [],
   "source": [
    "def run_bash(command):\n",
    "    stdout = subprocess.getoutput(command)\n",
    "    result=stdout.split(\"\\n\")[-6]\n",
    "    return(result)"
   ]
  },
  {
   "cell_type": "markdown",
   "metadata": {},
   "source": [
    "# Graph"
   ]
  },
  {
   "cell_type": "markdown",
   "metadata": {},
   "source": [
    "<img src=\"img/col_instance.png\"  width=\"200\"> "
   ]
  },
  {
   "cell_type": "markdown",
   "metadata": {},
   "source": [
    "Take the above graph as an example, we can translate it into clingo script"
   ]
  },
  {
   "cell_type": "code",
   "execution_count": 6,
   "metadata": {},
   "outputs": [],
   "source": [
    "instance=\"\"\" \n",
    "e(1,2). \n",
    "e(2,3). \n",
    "e(3,4). \n",
    "e(4,1). \n",
    "e(4,5).\n",
    "\"\"\""
   ]
  },
  {
   "cell_type": "markdown",
   "metadata": {},
   "source": [
    "# Coloring Generate"
   ]
  },
  {
   "cell_type": "markdown",
   "metadata": {},
   "source": [
    "Each node will be assigned one of the k colors (see the figure below k=3)"
   ]
  },
  {
   "cell_type": "markdown",
   "metadata": {},
   "source": [
    "<img src=\"img/col_generate.png\" width=\"200\"/> "
   ]
  },
  {
   "cell_type": "code",
   "execution_count": 7,
   "metadata": {},
   "outputs": [],
   "source": [
    "generate=\"\"\"\n",
    "gnode(X) :- e(X,_).\n",
    "gnode(X) :- e(_,X).\n",
    "\n",
    "{ col(X,1..n) } = 1 :- gnode(X).\n",
    "\n",
    "\"\"\""
   ]
  },
  {
   "cell_type": "markdown",
   "metadata": {},
   "source": [
    "# Solution Check"
   ]
  },
  {
   "cell_type": "code",
   "execution_count": 8,
   "metadata": {},
   "outputs": [],
   "source": [
    "check=\"\"\"\n",
    "\n",
    ":- e(X,Y), col(X,C), col(Y,C), X != Y.\n",
    "#show col/2.\n",
    "\n",
    "\"\"\""
   ]
  },
  {
   "cell_type": "markdown",
   "metadata": {},
   "source": [
    "# Problem1: K_COL"
   ]
  },
  {
   "cell_type": "markdown",
   "metadata": {},
   "source": [
    " Given a constant K, find all possible solutions to CAP with k containers"
   ]
  },
  {
   "cell_type": "code",
   "execution_count": 9,
   "metadata": {},
   "outputs": [],
   "source": [
    "k=3"
   ]
  },
  {
   "cell_type": "code",
   "execution_count": 10,
   "metadata": {},
   "outputs": [],
   "source": [
    "generate_update=asign_k(k,generate) # update generate with k colors"
   ]
  },
  {
   "cell_type": "code",
   "execution_count": 11,
   "metadata": {},
   "outputs": [
    {
     "data": {
      "text/plain": [
       "'SATISFIABLE'"
      ]
     },
     "execution_count": 11,
     "metadata": {},
     "output_type": "execute_result"
    }
   ],
   "source": [
    "run_clingo(instance, generate_update, check,\"k_col\")"
   ]
  },
  {
   "cell_type": "markdown",
   "metadata": {},
   "source": [
    "# Problem2: min_K_COL"
   ]
  },
  {
   "cell_type": "code",
   "execution_count": 12,
   "metadata": {},
   "outputs": [
    {
     "name": "stdout",
     "output_type": "stream",
     "text": [
      "col number: 1\n",
      "UNSATISFIABLE\n",
      "col number: 2\n",
      "SATISFIABLE\n",
      "\n",
      "\n",
      "Minimum K for this graph is: 2\n"
     ]
    }
   ],
   "source": [
    "k=0\n",
    "clingo_output=\"\"\n",
    "#find the minimum number of containers to satisfy all\n",
    "while clingo_output!=\"SATISFIABLE\":\n",
    "    k=k+1  ## for other problems, the variables should be revised\n",
    "    print(\"col number: \"+str(k)) \n",
    "    generate_update=asign_k(k,generate) # update generate with k boxes\n",
    "    clingo_output=run_clingo(instance, generate_update, check,\"k_col\")\n",
    "    print(clingo_output)\n",
    "print(\"\\n\\nMinimum K for this graph is: {}\".format(k))"
   ]
  }
 ],
 "metadata": {
  "kernelspec": {
   "display_name": "Python 3 (ipykernel)",
   "language": "python",
   "name": "python3"
  },
  "language_info": {
   "codemirror_mode": {
    "name": "ipython",
    "version": 3
   },
   "file_extension": ".py",
   "mimetype": "text/x-python",
   "name": "python",
   "nbconvert_exporter": "python",
   "pygments_lexer": "ipython3",
   "version": "3.8.12"
  },
  "toc": {
   "base_numbering": 1,
   "nav_menu": {},
   "number_sections": true,
   "sideBar": true,
   "skip_h1_title": false,
   "title_cell": "Table of Contents",
   "title_sidebar": "Contents",
   "toc_cell": false,
   "toc_position": {},
   "toc_section_display": true,
   "toc_window_display": false
  }
 },
 "nbformat": 4,
 "nbformat_minor": 2
}
